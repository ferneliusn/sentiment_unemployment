{
 "cells": [
  {
   "cell_type": "code",
   "execution_count": 1,
   "id": "2aa3b3ce",
   "metadata": {},
   "outputs": [],
   "source": [
    "import numpy as np\n",
    "import pandas as pd\n",
    "from sklearn.linear_model import LinearRegression\n",
    "from sklearn.metrics import r2_score\n",
    "from sklearn.metrics import mean_squared_error\n",
    "from sklearn.feature_selection import chi2\n",
    "from sklearn.feature_selection import f_regression\n",
    "import statsmodels.api as sm"
   ]
  },
  {
   "cell_type": "code",
   "execution_count": 2,
   "id": "50b9baee",
   "metadata": {},
   "outputs": [],
   "source": [
    "train_data_5 = pd.read_csv('./CSVs/train_data_5.csv')\n",
    "train_data_10 = pd.read_csv('./CSVs/train_data_10.csv')\n",
    "train_data_15 = pd.read_csv('./CSVs/train_data_15.csv')\n",
    "train_data_inflate = pd.read_csv('./CSVs/train_data_inflate.csv')"
   ]
  },
  {
   "cell_type": "code",
   "execution_count": 3,
   "id": "4b0b1da4",
   "metadata": {},
   "outputs": [],
   "source": [
    "def full_regression(train_data):\n",
    "    y_train = train_data['future_rate']\n",
    "    train_data = train_data.drop(['future_rate','UNRATE','text','Unnamed: 0'], axis=1)\n",
    "    print(train_data.head(3))\n",
    "    LR = LinearRegression()\n",
    "    LR.fit(train_data,y_train)\n",
    "    test = LR.predict(train_data)\n",
    "    score=r2_score(y_train,test)\n",
    "    print(\"r2 score is\",score)\n",
    "    print(\"mean_sqrd_error is==\",mean_squared_error(y_train,test))\n",
    "    print(\"root_mean_squared error of is==\",np.sqrt(mean_squared_error(y_train,test)))\n",
    "    print(\"the coefficients are\", LR.coef_)\n",
    "    print('the coefficient of sentiment is', LR.coef_[6])\n",
    "    freg=f_regression(train_data,y_train)\n",
    "    p=freg[1]\n",
    "    print(\"the p-values are\", p)\n",
    "    print(\"the p-value of sentiment is\",p[6])"
   ]
  },
  {
   "cell_type": "code",
   "execution_count": 4,
   "id": "0357ff02",
   "metadata": {},
   "outputs": [],
   "source": [
    "def full_regression_inflate(train_data):\n",
    "    y_train = train_data['future_rate']\n",
    "    train_data = train_data.drop(['future_rate',\"UNRATE\",'text','Unnamed: 0'], axis=1)\n",
    "    print(train_data.head(3))\n",
    "    LR = LinearRegression()\n",
    "    LR.fit(train_data,y_train)\n",
    "    test = LR.predict(train_data)\n",
    "    score=r2_score(y_train,test)\n",
    "    print(\"r2 score is\",score)\n",
    "    print(\"mean_sqrd_error is==\",mean_squared_error(y_train,test))\n",
    "    print(\"root_mean_squared error of is==\",np.sqrt(mean_squared_error(y_train,test)))\n",
    "    print(\"the coefficients are\", LR.coef_)\n",
    "    print('the coefficient of sentiment is', LR.coef_[6])\n",
    "    freg=f_regression(train_data,y_train)\n",
    "    p=freg[1]\n",
    "    print(\"the p-values are\", p)\n",
    "    print(\"the p-value of sentiment is\",p[6])"
   ]
  },
  {
   "cell_type": "code",
   "execution_count": 5,
   "id": "3723f6ef",
   "metadata": {},
   "outputs": [
    {
     "name": "stdout",
     "output_type": "stream",
     "text": [
      "       sasdate  CPIAUCSL   INDPRO  S&P 500  FEDFUNDS  unemployment_rate  \\\n",
      "0  862444800.0     159.9  79.7730   833.09      5.50                4.9   \n",
      "1  867715200.0     160.4  80.7798   925.29      5.52                4.9   \n",
      "2  870393600.0     160.8  81.6119   927.24      5.54                4.8   \n",
      "\n",
      "   negative_sentiment  UNRATE-1  UNRATE-3  UNRATE-6  FEDFUNDS-1  FEDFUNDS-3  \\\n",
      "0               0.040       5.2       5.4       5.1        5.39        5.29   \n",
      "1               0.032       4.9       5.2       5.2        5.50        5.19   \n",
      "2               0.036       4.9       5.2       5.4        5.52        5.39   \n",
      "\n",
      "   FEDFUNDS-6  FEDFUNDS-10  past_rate  \n",
      "0        5.22         5.56        5.6  \n",
      "1        5.30         5.31        5.5  \n",
      "2        5.31         5.24        5.6  \n",
      "r2 score is 0.9621162713017024\n",
      "mean_sqrd_error is== 0.11760055470705293\n",
      "root_mean_squared error of is== 0.34292937276799856\n",
      "the coefficients are [-9.63571225e-09  9.16615895e-02 -5.74175441e-03 -1.00055315e-03\n",
      " -4.93990780e-01  8.74434776e-01 -2.44632661e+00  1.00181741e-01\n",
      " -3.57790793e-01  2.40013051e-01  1.47437955e-01  3.32445606e-01\n",
      " -1.20115418e-01  2.28477445e-01 -2.07261754e-01]\n",
      "the coefficient of sentiment is -2.446326609772946\n",
      "the p-values are [6.40969921e-02 1.01234071e-02 8.44051778e-03 1.66912015e-08\n",
      " 8.54137988e-13 1.26595120e-64 6.08938442e-07 3.74608267e-54\n",
      " 2.26127764e-38 2.78340457e-23 3.74574649e-11 4.28375380e-08\n",
      " 1.91535767e-04 1.39546052e-01 4.25799941e-11]\n",
      "the p-value of sentiment is 6.089384421858837e-07\n"
     ]
    }
   ],
   "source": [
    "full_regression(train_data_5)"
   ]
  },
  {
   "cell_type": "code",
   "execution_count": 6,
   "id": "41147fa6",
   "metadata": {
    "scrolled": true
   },
   "outputs": [
    {
     "name": "stdout",
     "output_type": "stream",
     "text": [
      "       sasdate  CPIAUCSL   INDPRO  S&P 500  FEDFUNDS  unemployment_rate  \\\n",
      "0  862444800.0     159.9  79.7730   833.09      5.50                4.9   \n",
      "1  867715200.0     160.4  80.7798   925.29      5.52                4.9   \n",
      "2  870393600.0     160.8  81.6119   927.24      5.54                4.8   \n",
      "\n",
      "   negative_sentiment  UNRATE-1  UNRATE-3  UNRATE-6  FEDFUNDS-1  FEDFUNDS-3  \\\n",
      "0               0.040       5.2       5.4       5.1        5.39        5.29   \n",
      "1               0.032       4.9       5.2       5.2        5.50        5.19   \n",
      "2               0.036       4.9       5.2       5.4        5.52        5.39   \n",
      "\n",
      "   FEDFUNDS-6  FEDFUNDS-10  past_rate  \n",
      "0        5.22         5.56        5.6  \n",
      "1        5.30         5.31        5.5  \n",
      "2        5.31         5.24        5.6  \n",
      "r2 score is 0.9090991467831869\n",
      "mean_sqrd_error is== 0.28589703109716347\n",
      "root_mean_squared error of is== 0.5346933991524147\n",
      "the coefficients are [-6.83121719e-09  6.80232471e-02  1.12579897e-01 -8.56138488e-04\n",
      " -4.50664675e-01  7.69423485e-01  1.64563763e+00  1.83257196e-01\n",
      " -2.57457943e-02  1.70444971e-01  1.48795974e-01  3.17212827e-01\n",
      " -9.43391144e-03  4.97960978e-01 -3.26321762e-01]\n",
      "the coefficient of sentiment is 1.645637626545199\n",
      "the p-values are [1.72262382e-01 2.65376686e-02 2.19351730e-01 4.30935839e-07\n",
      " 7.77484035e-05 1.55501124e-26 9.13827283e-08 1.96017116e-22\n",
      " 9.58383016e-16 9.20699110e-09 7.72181624e-04 2.74951587e-02\n",
      " 5.94728053e-01 1.82479288e-01 1.66825479e-03]\n",
      "the p-value of sentiment is 9.138272827137236e-08\n"
     ]
    }
   ],
   "source": [
    "full_regression(train_data_10)"
   ]
  },
  {
   "cell_type": "code",
   "execution_count": 7,
   "id": "5e6c4064",
   "metadata": {},
   "outputs": [
    {
     "name": "stdout",
     "output_type": "stream",
     "text": [
      "       sasdate  CPIAUCSL   INDPRO  S&P 500  FEDFUNDS  unemployment_rate  \\\n",
      "0  862444800.0     159.9  79.7730   833.09      5.50                4.9   \n",
      "1  867715200.0     160.4  80.7798   925.29      5.52                4.9   \n",
      "2  870393600.0     160.8  81.6119   927.24      5.54                4.8   \n",
      "\n",
      "   negative_sentiment  UNRATE-1  UNRATE-3  UNRATE-6  FEDFUNDS-1  FEDFUNDS-3  \\\n",
      "0               0.040       5.2       5.4       5.1        5.39        5.29   \n",
      "1               0.032       4.9       5.2       5.2        5.50        5.19   \n",
      "2               0.036       4.9       5.2       5.4        5.52        5.39   \n",
      "\n",
      "   FEDFUNDS-6  FEDFUNDS-10  past_rate  \n",
      "0        5.22         5.56        5.6  \n",
      "1        5.30         5.31        5.5  \n",
      "2        5.31         5.24        5.6  \n",
      "r2 score is 0.9060817435499774\n",
      "mean_sqrd_error is== 0.2980450584102097\n",
      "root_mean_squared error of is== 0.5459350313088634\n",
      "the coefficients are [ 1.29762556e-08 -6.14947172e-02  2.19612670e-01 -1.34377941e-03\n",
      " -1.12607189e-01  7.86700526e-01  2.59070967e+00  3.47672629e-01\n",
      "  1.41929924e-01  1.37961010e-01  1.22199923e-02  3.84947162e-01\n",
      "  3.41399978e-01  4.26448396e-01 -4.29159490e-01]\n",
      "the coefficient of sentiment is 2.5907096650743067\n",
      "the p-values are [4.33613065e-01 1.01339858e-01 8.94074739e-01 4.51147793e-05\n",
      " 5.53413067e-01 3.62968868e-10 1.00276582e-06 2.61942408e-08\n",
      " 2.26506685e-05 1.39605116e-02 9.63576605e-01 3.21105293e-01\n",
      " 2.33198142e-02 7.23171362e-04 6.73032456e-01]\n",
      "the p-value of sentiment is 1.0027658186234752e-06\n"
     ]
    }
   ],
   "source": [
    "full_regression(train_data_15)"
   ]
  },
  {
   "cell_type": "code",
   "execution_count": 8,
   "id": "1953caef",
   "metadata": {},
   "outputs": [
    {
     "name": "stdout",
     "output_type": "stream",
     "text": [
      "       sasdate  CPIAUCSL   INDPRO  S&P 500  FEDFUNDS  unemployment_rate  \\\n",
      "0  862444800.0     159.9  79.7730   833.09      5.50                4.9   \n",
      "1  867715200.0     160.4  80.7798   925.29      5.52                4.9   \n",
      "2  870393600.0     160.8  81.6119   927.24      5.54                4.8   \n",
      "\n",
      "   negative_sentiment  inflation_rate  inflation_rate-1  inflation_rate-3  \\\n",
      "0               0.040        2.626642          2.315394          2.325581   \n",
      "1               0.032        2.493766          2.626642          2.316844   \n",
      "2               0.036        2.425373          2.493766          2.315394   \n",
      "\n",
      "   inflation_rate-6  FEDFUNDS-1  FEDFUNDS-3  FEDFUNDS-6  FEDFUNDS-10  \\\n",
      "0          3.053435        5.39        5.29        5.22         5.56   \n",
      "1          2.726696        5.50        5.19        5.30         5.31   \n",
      "2          2.457467        5.52        5.39        5.31         5.24   \n",
      "\n",
      "   past_rate  \n",
      "0   3.943116  \n",
      "1   3.665595  \n",
      "2   3.388747  \n",
      "r2 score is 0.601946917699288\n",
      "mean_sqrd_error is== 1.0737646706718946\n",
      "root_mean_squared error of is== 1.0362261677220348\n",
      "the coefficients are [ 1.69144480e-08 -1.50325515e-01 -2.51984324e-03 -1.74335336e-03\n",
      " -8.22140491e-01 -5.19270443e-01 -3.16400121e+01 -5.16870442e-01\n",
      "  2.00290161e-01 -9.07419041e-02  8.73322167e-02  3.10435252e-01\n",
      " -5.88322554e-02 -1.82574231e-02  2.29054536e-01 -3.42105590e-02]\n",
      "the coefficient of sentiment is -31.640012090099326\n",
      "the p-values are [1.40380940e-10 3.50634427e-11 6.77462096e-07 1.00761872e-04\n",
      " 2.07849588e-02 6.40634665e-06 7.75373371e-01 8.32461588e-01\n",
      " 7.20093267e-01 9.91986725e-01 7.60875487e-01 1.42302679e-02\n",
      " 3.83222929e-03 1.62271066e-04 3.75485064e-07 2.58832344e-01]\n",
      "the p-value of sentiment is 0.7753733707417727\n"
     ]
    }
   ],
   "source": [
    "full_regression(train_data_inflate)"
   ]
  }
 ],
 "metadata": {
  "kernelspec": {
   "display_name": "tf2",
   "language": "python",
   "name": "tf2"
  },
  "language_info": {
   "codemirror_mode": {
    "name": "ipython",
    "version": 3
   },
   "file_extension": ".py",
   "mimetype": "text/x-python",
   "name": "python",
   "nbconvert_exporter": "python",
   "pygments_lexer": "ipython3",
   "version": "3.10.4"
  }
 },
 "nbformat": 4,
 "nbformat_minor": 5
}
